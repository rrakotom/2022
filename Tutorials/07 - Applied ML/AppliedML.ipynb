{
 "cells": [
  {
   "cell_type": "markdown",
   "metadata": {},
   "source": [
    "## All you need is love… And a pet!\n",
    "\n",
    "<img src=\"img/dataset-cover.jpg\" width=\"920\">\n",
    "\n",
    "Here we are going to build a classifier to predict whether an animal from an animal shelter will be adopted or not (aac_intakes_outcomes.csv, available at: https://www.kaggle.com/aaronschlegel/austin-animal-center-shelter-intakes-and-outcomes/version/1#aac_intakes_outcomes.csv). You will be working with the following features:\n",
    "\n",
    "1. *animal_type:* Type of animal. May be one of 'cat', 'dog', 'bird', etc.\n",
    "2. *intake_year:* Year of intake\n",
    "3. *intake_condition:* The intake condition of the animal. Can be one of 'normal', 'injured', 'sick', etc.\n",
    "4. *intake_number:* The intake number denoting the number of occurrences the animal has been brought into the shelter. Values higher than 1 indicate the animal has been taken into the shelter on more than one occasion.\n",
    "5. *intake_type:* The type of intake, for example, 'stray', 'owner surrender', etc.\n",
    "6. *sex_upon_intake:* The gender of the animal and if it has been spayed or neutered at the time of intake\n",
    "7. *age_upon\\_intake_(years):* The age of the animal upon intake represented in years\n",
    "8. *time_in_shelter_days:* Numeric value denoting the number of days the animal remained at the shelter from intake to outcome.\n",
    "9. *sex_upon_outcome:* The gender of the animal and if it has been spayed or neutered at time of outcome\n",
    "10. *age_upon\\_outcome_(years):* The age of the animal upon outcome represented in years\n",
    "11. *outcome_type:* The outcome type. Can be one of ‘adopted’, ‘transferred’, etc."
   ]
  },
  {
   "cell_type": "code",
   "execution_count": 1,
   "metadata": {},
   "outputs": [],
   "source": [
    "import numpy as np\n",
    "import matplotlib.pyplot as plt\n",
    "import pandas as pd\n",
    "import scipy as sp\n",
    "from itertools import combinations \n",
    "import ast\n",
    "from sklearn.linear_model import LogisticRegression\n",
    "from sklearn.model_selection import train_test_split\n",
    "from sklearn.metrics import confusion_matrix\n",
    "import seaborn as sn\n",
    "%matplotlib inline\n",
    "\n",
    "data_folder = './data/'"
   ]
  },
  {
   "cell_type": "markdown",
   "metadata": {},
   "source": [
    "### A) Load the dataset and convert categorical features to a suitable numerical representation (use dummy-variable encoding). \n",
    "- Split the data into a training set (80%) and a test set (20%). Pair each feature vector with the corresponding label, i.e., whether the outcome_type is adoption or not. \n",
    "- Standardize the values of each feature in the data to have mean 0 and variance 1.\n",
    "\n",
    "The use of external libraries is not permitted in part A, except for numpy and pandas. \n",
    "You can drop entries with missing values."
   ]
  },
  {
   "cell_type": "code",
   "execution_count": 2,
   "metadata": {},
   "outputs": [
    {
     "data": {
      "text/html": [
       "<div>\n",
       "<style scoped>\n",
       "    .dataframe tbody tr th:only-of-type {\n",
       "        vertical-align: middle;\n",
       "    }\n",
       "\n",
       "    .dataframe tbody tr th {\n",
       "        vertical-align: top;\n",
       "    }\n",
       "\n",
       "    .dataframe thead th {\n",
       "        text-align: right;\n",
       "    }\n",
       "</style>\n",
       "<table border=\"1\" class=\"dataframe\">\n",
       "  <thead>\n",
       "    <tr style=\"text-align: right;\">\n",
       "      <th></th>\n",
       "      <th>outcome_type</th>\n",
       "      <th>sex_upon_outcome</th>\n",
       "      <th>age_upon_outcome_(years)</th>\n",
       "      <th>animal_type</th>\n",
       "      <th>intake_condition</th>\n",
       "      <th>intake_type</th>\n",
       "      <th>sex_upon_intake</th>\n",
       "      <th>age_upon_intake_(years)</th>\n",
       "      <th>intake_year</th>\n",
       "      <th>intake_number</th>\n",
       "      <th>time_in_shelter_days</th>\n",
       "    </tr>\n",
       "  </thead>\n",
       "  <tbody>\n",
       "    <tr>\n",
       "      <th>18549</th>\n",
       "      <td>Adoption</td>\n",
       "      <td>Spayed Female</td>\n",
       "      <td>0.657534</td>\n",
       "      <td>Dog</td>\n",
       "      <td>Normal</td>\n",
       "      <td>Stray</td>\n",
       "      <td>Intact Female</td>\n",
       "      <td>0.575342</td>\n",
       "      <td>2014</td>\n",
       "      <td>1.0</td>\n",
       "      <td>4.076389</td>\n",
       "    </tr>\n",
       "    <tr>\n",
       "      <th>7361</th>\n",
       "      <td>Died</td>\n",
       "      <td>Unknown</td>\n",
       "      <td>0.328767</td>\n",
       "      <td>Cat</td>\n",
       "      <td>Injured</td>\n",
       "      <td>Stray</td>\n",
       "      <td>Unknown</td>\n",
       "      <td>0.328767</td>\n",
       "      <td>2013</td>\n",
       "      <td>1.0</td>\n",
       "      <td>26.459722</td>\n",
       "    </tr>\n",
       "    <tr>\n",
       "      <th>1593</th>\n",
       "      <td>Return to Owner</td>\n",
       "      <td>Spayed Female</td>\n",
       "      <td>5.000000</td>\n",
       "      <td>Dog</td>\n",
       "      <td>Normal</td>\n",
       "      <td>Stray</td>\n",
       "      <td>Spayed Female</td>\n",
       "      <td>5.000000</td>\n",
       "      <td>2016</td>\n",
       "      <td>1.0</td>\n",
       "      <td>3.943750</td>\n",
       "    </tr>\n",
       "    <tr>\n",
       "      <th>77636</th>\n",
       "      <td>Adoption</td>\n",
       "      <td>Neutered Male</td>\n",
       "      <td>9.000000</td>\n",
       "      <td>Dog</td>\n",
       "      <td>Normal</td>\n",
       "      <td>Stray</td>\n",
       "      <td>Intact Male</td>\n",
       "      <td>9.000000</td>\n",
       "      <td>2018</td>\n",
       "      <td>1.0</td>\n",
       "      <td>57.984722</td>\n",
       "    </tr>\n",
       "    <tr>\n",
       "      <th>6031</th>\n",
       "      <td>Adoption</td>\n",
       "      <td>Neutered Male</td>\n",
       "      <td>0.657534</td>\n",
       "      <td>Dog</td>\n",
       "      <td>Sick</td>\n",
       "      <td>Stray</td>\n",
       "      <td>Intact Male</td>\n",
       "      <td>0.657534</td>\n",
       "      <td>2013</td>\n",
       "      <td>1.0</td>\n",
       "      <td>26.120833</td>\n",
       "    </tr>\n",
       "  </tbody>\n",
       "</table>\n",
       "</div>"
      ],
      "text/plain": [
       "          outcome_type sex_upon_outcome  age_upon_outcome_(years) animal_type  \\\n",
       "18549         Adoption    Spayed Female                  0.657534         Dog   \n",
       "7361              Died          Unknown                  0.328767         Cat   \n",
       "1593   Return to Owner    Spayed Female                  5.000000         Dog   \n",
       "77636         Adoption    Neutered Male                  9.000000         Dog   \n",
       "6031          Adoption    Neutered Male                  0.657534         Dog   \n",
       "\n",
       "      intake_condition intake_type sex_upon_intake  age_upon_intake_(years)  \\\n",
       "18549           Normal       Stray   Intact Female                 0.575342   \n",
       "7361           Injured       Stray         Unknown                 0.328767   \n",
       "1593            Normal       Stray   Spayed Female                 5.000000   \n",
       "77636           Normal       Stray     Intact Male                 9.000000   \n",
       "6031              Sick       Stray     Intact Male                 0.657534   \n",
       "\n",
       "       intake_year  intake_number  time_in_shelter_days  \n",
       "18549         2014            1.0              4.076389  \n",
       "7361          2013            1.0             26.459722  \n",
       "1593          2016            1.0              3.943750  \n",
       "77636         2018            1.0             57.984722  \n",
       "6031          2013            1.0             26.120833  "
      ]
     },
     "execution_count": 2,
     "metadata": {},
     "output_type": "execute_result"
    }
   ],
   "source": [
    "columns = ['animal_type', 'intake_year', 'intake_condition', 'intake_number', 'intake_type', 'sex_upon_intake', \\\n",
    "          'age_upon_intake_(years)', 'time_in_shelter_days', 'sex_upon_outcome', 'age_upon_outcome_(years)', \\\n",
    "          'outcome_type']\n",
    "original_data = pd.read_csv(data_folder+'aac_intakes_outcomes.csv', usecols=columns)\n",
    "original_data.sample(5)"
   ]
  },
  {
   "cell_type": "code",
   "execution_count": 3,
   "metadata": {},
   "outputs": [
    {
     "data": {
      "text/html": [
       "<div>\n",
       "<style scoped>\n",
       "    .dataframe tbody tr th:only-of-type {\n",
       "        vertical-align: middle;\n",
       "    }\n",
       "\n",
       "    .dataframe tbody tr th {\n",
       "        vertical-align: top;\n",
       "    }\n",
       "\n",
       "    .dataframe thead th {\n",
       "        text-align: right;\n",
       "    }\n",
       "</style>\n",
       "<table border=\"1\" class=\"dataframe\">\n",
       "  <thead>\n",
       "    <tr style=\"text-align: right;\">\n",
       "      <th></th>\n",
       "      <th>Adoption</th>\n",
       "      <th>age_upon_intake_(years)</th>\n",
       "      <th>age_upon_outcome_(years)</th>\n",
       "      <th>animal_type_Bird</th>\n",
       "      <th>animal_type_Cat</th>\n",
       "      <th>animal_type_Dog</th>\n",
       "      <th>animal_type_Other</th>\n",
       "      <th>intake_condition_Aged</th>\n",
       "      <th>intake_condition_Feral</th>\n",
       "      <th>intake_condition_Injured</th>\n",
       "      <th>...</th>\n",
       "      <th>sex_upon_intake_Intact Male</th>\n",
       "      <th>sex_upon_intake_Neutered Male</th>\n",
       "      <th>sex_upon_intake_Spayed Female</th>\n",
       "      <th>sex_upon_intake_Unknown</th>\n",
       "      <th>sex_upon_outcome_Intact Female</th>\n",
       "      <th>sex_upon_outcome_Intact Male</th>\n",
       "      <th>sex_upon_outcome_Neutered Male</th>\n",
       "      <th>sex_upon_outcome_Spayed Female</th>\n",
       "      <th>sex_upon_outcome_Unknown</th>\n",
       "      <th>time_in_shelter_days</th>\n",
       "    </tr>\n",
       "  </thead>\n",
       "  <tbody>\n",
       "    <tr>\n",
       "      <th>36210</th>\n",
       "      <td>1</td>\n",
       "      <td>0.308357</td>\n",
       "      <td>0.640439</td>\n",
       "      <td>0</td>\n",
       "      <td>0</td>\n",
       "      <td>1</td>\n",
       "      <td>0</td>\n",
       "      <td>0</td>\n",
       "      <td>0</td>\n",
       "      <td>1</td>\n",
       "      <td>...</td>\n",
       "      <td>1</td>\n",
       "      <td>0</td>\n",
       "      <td>0</td>\n",
       "      <td>0</td>\n",
       "      <td>0</td>\n",
       "      <td>0</td>\n",
       "      <td>1</td>\n",
       "      <td>0</td>\n",
       "      <td>0</td>\n",
       "      <td>6.631280</td>\n",
       "    </tr>\n",
       "    <tr>\n",
       "      <th>18419</th>\n",
       "      <td>1</td>\n",
       "      <td>-0.382928</td>\n",
       "      <td>-0.394020</td>\n",
       "      <td>0</td>\n",
       "      <td>0</td>\n",
       "      <td>1</td>\n",
       "      <td>0</td>\n",
       "      <td>0</td>\n",
       "      <td>0</td>\n",
       "      <td>0</td>\n",
       "      <td>...</td>\n",
       "      <td>0</td>\n",
       "      <td>1</td>\n",
       "      <td>0</td>\n",
       "      <td>0</td>\n",
       "      <td>0</td>\n",
       "      <td>0</td>\n",
       "      <td>1</td>\n",
       "      <td>0</td>\n",
       "      <td>0</td>\n",
       "      <td>-0.113946</td>\n",
       "    </tr>\n",
       "    <tr>\n",
       "      <th>50916</th>\n",
       "      <td>1</td>\n",
       "      <td>-0.702055</td>\n",
       "      <td>-0.710498</td>\n",
       "      <td>0</td>\n",
       "      <td>1</td>\n",
       "      <td>0</td>\n",
       "      <td>0</td>\n",
       "      <td>0</td>\n",
       "      <td>0</td>\n",
       "      <td>0</td>\n",
       "      <td>...</td>\n",
       "      <td>1</td>\n",
       "      <td>0</td>\n",
       "      <td>0</td>\n",
       "      <td>0</td>\n",
       "      <td>0</td>\n",
       "      <td>0</td>\n",
       "      <td>1</td>\n",
       "      <td>0</td>\n",
       "      <td>0</td>\n",
       "      <td>0.343305</td>\n",
       "    </tr>\n",
       "    <tr>\n",
       "      <th>74121</th>\n",
       "      <td>1</td>\n",
       "      <td>-0.444480</td>\n",
       "      <td>-0.455426</td>\n",
       "      <td>0</td>\n",
       "      <td>0</td>\n",
       "      <td>1</td>\n",
       "      <td>0</td>\n",
       "      <td>0</td>\n",
       "      <td>0</td>\n",
       "      <td>0</td>\n",
       "      <td>...</td>\n",
       "      <td>0</td>\n",
       "      <td>0</td>\n",
       "      <td>1</td>\n",
       "      <td>0</td>\n",
       "      <td>0</td>\n",
       "      <td>0</td>\n",
       "      <td>0</td>\n",
       "      <td>1</td>\n",
       "      <td>0</td>\n",
       "      <td>-0.328552</td>\n",
       "    </tr>\n",
       "    <tr>\n",
       "      <th>51982</th>\n",
       "      <td>1</td>\n",
       "      <td>-0.382928</td>\n",
       "      <td>-0.394020</td>\n",
       "      <td>0</td>\n",
       "      <td>0</td>\n",
       "      <td>1</td>\n",
       "      <td>0</td>\n",
       "      <td>0</td>\n",
       "      <td>0</td>\n",
       "      <td>0</td>\n",
       "      <td>...</td>\n",
       "      <td>1</td>\n",
       "      <td>0</td>\n",
       "      <td>0</td>\n",
       "      <td>0</td>\n",
       "      <td>0</td>\n",
       "      <td>0</td>\n",
       "      <td>1</td>\n",
       "      <td>0</td>\n",
       "      <td>0</td>\n",
       "      <td>1.478228</td>\n",
       "    </tr>\n",
       "  </tbody>\n",
       "</table>\n",
       "<p>5 rows × 33 columns</p>\n",
       "</div>"
      ],
      "text/plain": [
       "       Adoption  age_upon_intake_(years)  age_upon_outcome_(years)  \\\n",
       "36210         1                 0.308357                  0.640439   \n",
       "18419         1                -0.382928                 -0.394020   \n",
       "50916         1                -0.702055                 -0.710498   \n",
       "74121         1                -0.444480                 -0.455426   \n",
       "51982         1                -0.382928                 -0.394020   \n",
       "\n",
       "       animal_type_Bird  animal_type_Cat  animal_type_Dog  animal_type_Other  \\\n",
       "36210                 0                0                1                  0   \n",
       "18419                 0                0                1                  0   \n",
       "50916                 0                1                0                  0   \n",
       "74121                 0                0                1                  0   \n",
       "51982                 0                0                1                  0   \n",
       "\n",
       "       intake_condition_Aged  intake_condition_Feral  \\\n",
       "36210                      0                       0   \n",
       "18419                      0                       0   \n",
       "50916                      0                       0   \n",
       "74121                      0                       0   \n",
       "51982                      0                       0   \n",
       "\n",
       "       intake_condition_Injured  ...  sex_upon_intake_Intact Male  \\\n",
       "36210                         1  ...                            1   \n",
       "18419                         0  ...                            0   \n",
       "50916                         0  ...                            1   \n",
       "74121                         0  ...                            0   \n",
       "51982                         0  ...                            1   \n",
       "\n",
       "       sex_upon_intake_Neutered Male  sex_upon_intake_Spayed Female  \\\n",
       "36210                              0                              0   \n",
       "18419                              1                              0   \n",
       "50916                              0                              0   \n",
       "74121                              0                              1   \n",
       "51982                              0                              0   \n",
       "\n",
       "       sex_upon_intake_Unknown  sex_upon_outcome_Intact Female  \\\n",
       "36210                        0                               0   \n",
       "18419                        0                               0   \n",
       "50916                        0                               0   \n",
       "74121                        0                               0   \n",
       "51982                        0                               0   \n",
       "\n",
       "       sex_upon_outcome_Intact Male  sex_upon_outcome_Neutered Male  \\\n",
       "36210                             0                               1   \n",
       "18419                             0                               1   \n",
       "50916                             0                               1   \n",
       "74121                             0                               0   \n",
       "51982                             0                               1   \n",
       "\n",
       "       sex_upon_outcome_Spayed Female  sex_upon_outcome_Unknown  \\\n",
       "36210                               0                         0   \n",
       "18419                               0                         0   \n",
       "50916                               0                         0   \n",
       "74121                               1                         0   \n",
       "51982                               0                         0   \n",
       "\n",
       "       time_in_shelter_days  \n",
       "36210              6.631280  \n",
       "18419             -0.113946  \n",
       "50916              0.343305  \n",
       "74121             -0.328552  \n",
       "51982              1.478228  \n",
       "\n",
       "[5 rows x 33 columns]"
      ]
     },
     "execution_count": 3,
     "metadata": {},
     "output_type": "execute_result"
    }
   ],
   "source": [
    "# Delete unlabeled rows\n",
    "data = original_data.dropna(subset=\"outcome_type\")\n",
    "\n",
    "# Convert adoption status into a boolean\n",
    "non_adoption_status = list(data.drop_duplicates(subset=\"outcome_type\")[\"outcome_type\"])\n",
    "non_adoption_status.remove('Adoption')\n",
    "data = pd.concat([data, pd.get_dummies(data[\"outcome_type\"])], axis=1)\n",
    "data = data.drop(non_adoption_status + [\"outcome_type\"], axis=1)\n",
    " \n",
    "# Transform categorical features into booleans\n",
    "categorical_features = [\"sex_upon_outcome\", \"animal_type\", \"intake_condition\", \"intake_type\", \"sex_upon_intake\"]\n",
    "data = pd.concat([data, pd.get_dummies(data[categorical_features])], axis=1)\n",
    "data = data.drop(categorical_features, axis=1)\n",
    "\n",
    "# Normalize continuous features\n",
    "continuous_features = [\"age_upon_outcome_(years)\", \"age_upon_intake_(years)\", \"intake_year\", \"intake_number\", \"time_in_shelter_days\"]\n",
    "data[continuous_features] = original_data[continuous_features]\n",
    "\n",
    "def zscore(feature: str):\n",
    "    data[feature] = (data[feature] - data[feature].mean())/data[feature].std()\n",
    "    \n",
    "for ind, feature in enumerate(continuous_features):\n",
    "    zscore(feature)\n",
    "\n",
    "data = data[sorted(data.columns)]\n",
    "data.sample(5)"
   ]
  },
  {
   "cell_type": "code",
   "execution_count": 4,
   "metadata": {},
   "outputs": [
    {
     "data": {
      "text/plain": [
       "Index(['Adoption', 'age_upon_intake_(years)', 'age_upon_outcome_(years)',\n",
       "       'animal_type_Bird', 'animal_type_Cat', 'animal_type_Dog',\n",
       "       'animal_type_Other', 'intake_condition_Aged', 'intake_condition_Feral',\n",
       "       'intake_condition_Injured', 'intake_condition_Normal',\n",
       "       'intake_condition_Nursing', 'intake_condition_Other',\n",
       "       'intake_condition_Pregnant', 'intake_condition_Sick', 'intake_number',\n",
       "       'intake_type_Euthanasia Request', 'intake_type_Owner Surrender',\n",
       "       'intake_type_Public Assist', 'intake_type_Stray',\n",
       "       'intake_type_Wildlife', 'intake_year', 'sex_upon_intake_Intact Female',\n",
       "       'sex_upon_intake_Intact Male', 'sex_upon_intake_Neutered Male',\n",
       "       'sex_upon_intake_Spayed Female', 'sex_upon_intake_Unknown',\n",
       "       'sex_upon_outcome_Intact Female', 'sex_upon_outcome_Intact Male',\n",
       "       'sex_upon_outcome_Neutered Male', 'sex_upon_outcome_Spayed Female',\n",
       "       'sex_upon_outcome_Unknown', 'time_in_shelter_days'],\n",
       "      dtype='object')"
      ]
     },
     "execution_count": 4,
     "metadata": {},
     "output_type": "execute_result"
    }
   ],
   "source": [
    "data.columns"
   ]
  },
  {
   "cell_type": "code",
   "execution_count": 5,
   "metadata": {},
   "outputs": [],
   "source": [
    "# Divide the data to get 80% for training and 20% for testing \n",
    "X_train, X_test, Y_train, Y_test = train_test_split(data.drop(\"Adoption\", axis=1),\\\n",
    "                                                    data[[\"Adoption\"]],\\\n",
    "                                                    test_size=0.2,\\\n",
    "                                                    random_state=0,\\\n",
    "                                                    # each label is in the same proportions as in the original dataset in both training and test sets\n",
    "                                                    stratify=data[[\"Adoption\"]]) "
   ]
  },
  {
   "cell_type": "markdown",
   "metadata": {},
   "source": [
    "### B) Train a logistic regression classifier on your training set. Logistic regression returns probabilities as predictions, so in order to arrive at a binary prediction, you need to put a threshold on the predicted probabilities. \n",
    "- For the decision threshold of 0.5, present the performance of your classifier on the test set by displaying the confusion matrix. Based on the confusion matrix, manually calculate accuracy, precision, recall, and F1-score with respect to the positive and the negative class. "
   ]
  },
  {
   "cell_type": "code",
   "execution_count": 6,
   "metadata": {
    "collapsed": true,
    "jupyter": {
     "outputs_hidden": true
    }
   },
   "outputs": [],
   "source": [
    "# Logistic regression classifier\n",
    "logistic = LogisticRegression(solver='lbfgs', max_iter=1000)\n",
    "logistic.fit(X_train, Y_train[\"Adoption\"])\n",
    "\n",
    "probas = logistic.predict_proba(X_test) \n",
    "\n",
    "# Compute the predictions\n",
    "def predict_adoption(probas, threshold):\n",
    "    Y_predict = np.empty(len(probas))\n",
    "    \n",
    "    for ind, probas_row in enumerate(probas):\n",
    "    # probas_row[0] correspond to \"0\" outcome\n",
    "        if probas_row[0] > threshold:\n",
    "            Y_predict[ind] = 0\n",
    "        else:\n",
    "            Y_predict[ind] = 1\n",
    "    \n",
    "    return Y_predict\n",
    "    \n",
    "# Compute performance indicators knowing the confusion matrix\n",
    "def compute_performance(matrix):\n",
    "    TP = matrix[0,0]\n",
    "    TN = matrix[1,1]\n",
    "    FP = matrix[1,0]\n",
    "    FN = matrix[0,1]\n",
    "    \n",
    "    total = matrix.ravel().sum()\n",
    "    accuracy =  (TP + TN) / total\n",
    "    \n",
    "    precision = TP / (TP + FP)    \n",
    "    \n",
    "    recall =  TP / (TP + FN)\n",
    "    \n",
    "    F1_score =  2 * (precision*recall) / (precision + recall)\n",
    "    \n",
    "    return [accuracy, precision, recall, F1_score]"
   ]
  },
  {
   "cell_type": "code",
   "execution_count": 7,
   "metadata": {},
   "outputs": [
    {
     "name": "stdout",
     "output_type": "stream",
     "text": [
      "Accuracy: 0.8227577982802987\n",
      "Precision: 0.8639781271360218\n",
      "Recall: 0.8230952897764272\n",
      "F1_score: 0.8430413517118719\n"
     ]
    }
   ],
   "source": [
    "# Compute the confusion matrix\n",
    "matrix = confusion_matrix(Y_test, predict_adoption(probas, 0.5))\n",
    "perfs = compute_performance(matrix)\n",
    "\n",
    "print(f\"Accuracy: {perfs[0]}\")\n",
    "print(f\"Precision: {perfs[1]}\")\n",
    "print(f\"Recall: {perfs[2]}\")\n",
    "print(f\"F1_score: {perfs[3]}\")"
   ]
  },
  {
   "cell_type": "markdown",
   "metadata": {},
   "source": [
    "### C) Vary the value of the threshold in the range from 0 to 1 and visualize the value of accuracy, precision, recall, and F1-score (with respect to both classes) as a function of the threshold."
   ]
  },
  {
   "cell_type": "code",
   "execution_count": 8,
   "metadata": {
    "collapsed": true,
    "jupyter": {
     "outputs_hidden": true
    }
   },
   "outputs": [],
   "source": [
    "thresholds = np.arange(0,1,0.025)\n",
    "accuracies = []\n",
    "precisions = []\n",
    "recalls = []\n",
    "F1_scores = []\n",
    "\n",
    "for ind, threshold in enumerate(thresholds):\n",
    "    Y_predict = predict_adoption(probas, threshold)\n",
    "    matrix = confusion_matrix(Y_test, Y_predict)\n",
    "    perfs = compute_performance(matrix)\n",
    "    \n",
    "    accuracies.append(perfs[0])\n",
    "    precisions.append(perfs[1])\n",
    "    recalls.append(perfs[2])\n",
    "    F1_scores.append(perfs[3])"
   ]
  },
  {
   "cell_type": "code",
   "execution_count": 9,
   "metadata": {},
   "outputs": [
    {
     "data": {
      "image/png": "[encoded data removed]",
      "text/plain": [
       "<Figure size 864x864 with 1 Axes>"
      ]
     },
     "metadata": {
      "needs_background": "light"
     },
     "output_type": "display_data"
    }
   ],
   "source": [
    "plt.figure(figsize=(12,12))\n",
    "plt.plot(thresholds, accuracies,\\\n",
    "         thresholds, precisions,\\\n",
    "         thresholds, recalls,\\\n",
    "         thresholds, F1_scores)\n",
    "plt.grid()\n",
    "plt.legend([\"Accuracies\", \"Precisions\", \"Recalls\", \"F1_scores\"], loc=\"upper right\")\n",
    "plt.xlabel(\"Thresholds\")\n",
    "plt.show()"
   ]
  },
  {
   "cell_type": "markdown",
   "metadata": {},
   "source": [
    "### D) Plot in a bar chart the coefficients of the logistic regression sorted by their contribution to the prediction."
   ]
  },
  {
   "cell_type": "code",
   "execution_count": 72,
   "metadata": {},
   "outputs": [
    {
     "data": {
      "text/html": [
       "<div>\n",
       "<style scoped>\n",
       "    .dataframe tbody tr th:only-of-type {\n",
       "        vertical-align: middle;\n",
       "    }\n",
       "\n",
       "    .dataframe tbody tr th {\n",
       "        vertical-align: top;\n",
       "    }\n",
       "\n",
       "    .dataframe thead th {\n",
       "        text-align: right;\n",
       "    }\n",
       "</style>\n",
       "<table border=\"1\" class=\"dataframe\">\n",
       "  <thead>\n",
       "    <tr style=\"text-align: right;\">\n",
       "      <th></th>\n",
       "      <th>coeffs</th>\n",
       "    </tr>\n",
       "    <tr>\n",
       "      <th>features</th>\n",
       "      <th></th>\n",
       "    </tr>\n",
       "  </thead>\n",
       "  <tbody>\n",
       "    <tr>\n",
       "      <th>intake_type_Stray</th>\n",
       "      <td>0.904369</td>\n",
       "    </tr>\n",
       "    <tr>\n",
       "      <th>sex_upon_intake_Spayed Female</th>\n",
       "      <td>-0.342765</td>\n",
       "    </tr>\n",
       "    <tr>\n",
       "      <th>sex_upon_outcome_Unknown</th>\n",
       "      <td>-1.213342</td>\n",
       "    </tr>\n",
       "    <tr>\n",
       "      <th>animal_type_Dog</th>\n",
       "      <td>-1.115654</td>\n",
       "    </tr>\n",
       "    <tr>\n",
       "      <th>intake_number</th>\n",
       "      <td>0.058670</td>\n",
       "    </tr>\n",
       "  </tbody>\n",
       "</table>\n",
       "</div>"
      ],
      "text/plain": [
       "                                 coeffs\n",
       "features                               \n",
       "intake_type_Stray              0.904369\n",
       "sex_upon_intake_Spayed Female -0.342765\n",
       "sex_upon_outcome_Unknown      -1.213342\n",
       "animal_type_Dog               -1.115654\n",
       "intake_number                  0.058670"
      ]
     },
     "execution_count": 72,
     "metadata": {},
     "output_type": "execute_result"
    }
   ],
   "source": [
    "# Create a DataFrame with the features associated with their coefficients\n",
    "coeffs = []\n",
    "for ind, value in enumerate(logistic.coef_.T):\n",
    "    coeffs.append(float(logistic.coef_.T[ind]))\n",
    "    \n",
    "data = np.array([list(X_test.columns), coeffs]).T\n",
    "\n",
    "df_coeffs = pd.DataFrame(columns = ['features'],\\\n",
    "                         data = list(X_test.columns))\n",
    "df_coeffs[\"coeffs\"] = coeffs\n",
    "df_coeffs = df_coeffs.sort_values(by=\"coeffs\", ascending=True).set_index(\"features\")\n",
    "df_coeffs.sample(5)"
   ]
  },
  {
   "cell_type": "code",
   "execution_count": 71,
   "metadata": {},
   "outputs": [
    {
     "data": {
      "image/png": "[encoded data removed]",
      "text/plain": [
       "<Figure size 864x864 with 1 Axes>"
      ]
     },
     "metadata": {
      "needs_background": "light"
     },
     "output_type": "display_data"
    }
   ],
   "source": [
    "df_coeffs.plot(kind='barh',\\\n",
    "               figsize=(12,12),\\\n",
    "               grid=True,\\\n",
    "               xlabel=\"Coefficients\",\\\n",
    "               legend=None)\n",
    "plt.show()"
   ]
  },
  {
   "cell_type": "markdown",
   "metadata": {},
   "source": [
    "\n",
    "## Question 1: Which of the following metrics is most suitable when you are dealing with unbalanced classes?\n",
    "\n",
    "- a) F1 Score\n",
    "- b) Recall\n",
    "- c) Precision\n",
    "- d) Accuracy"
   ]
  },
  {
   "attachments": {},
   "cell_type": "markdown",
   "metadata": {},
   "source": [
    "Answer: a"
   ]
  },
  {
   "cell_type": "markdown",
   "metadata": {},
   "source": [
    "## Question 2: You are working on a binary classification problem. You trained a model on a training dataset and got the following confusion matrix on the test dataset. What is true about the evaluation metrics (rounded to the second decimal point):\n",
    "\n",
    "|            | Pred = NO|Pred=YES|\n",
    "|------------|----------|--------|\n",
    "| Actual NO  |    50    |   10   |\n",
    "| Actual YES |    5     |   100  |\n",
    "\n",
    "- a) Accuracy is 0.95\n",
    "- b) Accuracy is 0.85\n",
    "- c) False positive rate is 0.95\n",
    "- d) True positive rate is 0.95"
   ]
  },
  {
   "attachments": {},
   "cell_type": "markdown",
   "metadata": {},
   "source": [
    "Answer: d"
   ]
  }
 ],
 "metadata": {
  "kernelspec": {
   "display_name": "Python 3",
   "language": "python",
   "name": "python3"
  },
  "language_info": {
   "codemirror_mode": {
    "name": "ipython",
    "version": 3
   },
   "file_extension": ".py",
   "mimetype": "text/x-python",
   "name": "python",
   "nbconvert_exporter": "python",
   "pygments_lexer": "ipython3",
   "version": "3.9.1"
  },
  "varInspector": {
   "cols": {
    "lenName": 16,
    "lenType": 16,
    "lenVar": 40
   },
   "kernels_config": {
    "python": {
     "delete_cmd_postfix": "",
     "delete_cmd_prefix": "del ",
     "library": "var_list.py",
     "varRefreshCmd": "print(var_dic_list())"
    },
    "r": {
     "delete_cmd_postfix": ") ",
     "delete_cmd_prefix": "rm(",
     "library": "var_list.r",
     "varRefreshCmd": "cat(var_dic_list()) "
    }
   },
   "types_to_exclude": [
    "module",
    "function",
    "builtin_function_or_method",
    "instance",
    "_Feature"
   ],
   "window_display": false
  },
  "vscode": {
   "interpreter": {
    "hash": "220387e6c3d14f2586cf2004f001028ce90f312409fe8a3fd0eb443ac44e4308"
   }
  }
 },
 "nbformat": 4,
 "nbformat_minor": 4
}
